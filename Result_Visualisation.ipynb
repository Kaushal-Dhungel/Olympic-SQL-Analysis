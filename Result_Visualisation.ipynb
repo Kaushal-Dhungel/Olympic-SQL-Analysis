{
 "cells": [
  {
   "cell_type": "markdown",
   "metadata": {},
   "source": [
    "## Analysing Olympics data using SQL (postgres). The original sql file is saved in 'olympics_analysis.sql' file and the outcomes of the queries have been tried to visualise here."
   ]
  },
  {
   "cell_type": "markdown",
   "metadata": {},
   "source": [
    "### *( This is a visualisation of the results of the sql queries saved in 'olympics_analysis.sql'. However, some results are visualised in graphical forms as well. Moreover, the conclusion made through this analysis is entirely based on the given dataset . No additional validation was done.)*"
   ]
  },
  {
   "cell_type": "code",
   "execution_count": 3,
   "metadata": {},
   "outputs": [],
   "source": [
    "import numpy as np\n",
    "import pandas as pd\n",
    "import matplotlib.pyplot as plt\n",
    "import psycopg2 as pg\n",
    "import pandas.io.sql as psql"
   ]
  },
  {
   "cell_type": "code",
   "execution_count": 4,
   "metadata": {},
   "outputs": [],
   "source": [
    "plt.style.use('ggplot')"
   ]
  },
  {
   "cell_type": "markdown",
   "metadata": {},
   "source": [
    "### Connecting to Postgres"
   ]
  },
  {
   "cell_type": "code",
   "execution_count": 4,
   "metadata": {},
   "outputs": [],
   "source": [
    "conn = pg.connect(\"host=localhost dbname=test user=postgres password=postgres\")\n",
    "cur = conn.cursor()"
   ]
  },
  {
   "cell_type": "code",
   "execution_count": 6,
   "metadata": {},
   "outputs": [
    {
     "name": "stdout",
     "output_type": "stream",
     "text": [
      "[(271116,)]\n"
     ]
    }
   ],
   "source": [
    "query = \"select count(1) from olympics.olympics_data;\"\n",
    "cur.execute(query)\n",
    "print(cur.fetchall())\n"
   ]
  },
  {
   "cell_type": "markdown",
   "metadata": {},
   "source": [
    "### Using Pandas to execute sql queries"
   ]
  },
  {
   "cell_type": "code",
   "execution_count": 7,
   "metadata": {},
   "outputs": [],
   "source": [
    "query = \"select * from olympics.olympics_data limit 10;\""
   ]
  },
  {
   "cell_type": "code",
   "execution_count": 8,
   "metadata": {},
   "outputs": [
    {
     "name": "stderr",
     "output_type": "stream",
     "text": [
      "/home/kaushal/.local/lib/python3.8/site-packages/pandas/io/sql.py:762: UserWarning: pandas only support SQLAlchemy connectable(engine/connection) ordatabase string URI or sqlite3 DBAPI2 connectionother DBAPI2 objects are not tested, please consider using SQLAlchemy\n",
      "  warnings.warn(\n"
     ]
    },
    {
     "data": {
      "text/html": [
       "<div>\n",
       "<style scoped>\n",
       "    .dataframe tbody tr th:only-of-type {\n",
       "        vertical-align: middle;\n",
       "    }\n",
       "\n",
       "    .dataframe tbody tr th {\n",
       "        vertical-align: top;\n",
       "    }\n",
       "\n",
       "    .dataframe thead th {\n",
       "        text-align: right;\n",
       "    }\n",
       "</style>\n",
       "<table border=\"1\" class=\"dataframe\">\n",
       "  <thead>\n",
       "    <tr style=\"text-align: right;\">\n",
       "      <th></th>\n",
       "      <th>id</th>\n",
       "      <th>name</th>\n",
       "      <th>sex</th>\n",
       "      <th>age</th>\n",
       "      <th>height</th>\n",
       "      <th>weight</th>\n",
       "      <th>team</th>\n",
       "      <th>noc</th>\n",
       "      <th>games</th>\n",
       "      <th>year</th>\n",
       "      <th>season</th>\n",
       "      <th>city</th>\n",
       "      <th>sport</th>\n",
       "      <th>event</th>\n",
       "      <th>medal</th>\n",
       "    </tr>\n",
       "  </thead>\n",
       "  <tbody>\n",
       "    <tr>\n",
       "      <th>0</th>\n",
       "      <td>1</td>\n",
       "      <td>A Dijiang</td>\n",
       "      <td>M</td>\n",
       "      <td>24</td>\n",
       "      <td>180</td>\n",
       "      <td>80</td>\n",
       "      <td>China</td>\n",
       "      <td>CHN</td>\n",
       "      <td>1992 Summer</td>\n",
       "      <td>1992</td>\n",
       "      <td>Summer</td>\n",
       "      <td>Barcelona</td>\n",
       "      <td>Basketball</td>\n",
       "      <td>Basketball Men's Basketball</td>\n",
       "      <td>NA</td>\n",
       "    </tr>\n",
       "    <tr>\n",
       "      <th>1</th>\n",
       "      <td>2</td>\n",
       "      <td>A Lamusi</td>\n",
       "      <td>M</td>\n",
       "      <td>23</td>\n",
       "      <td>170</td>\n",
       "      <td>60</td>\n",
       "      <td>China</td>\n",
       "      <td>CHN</td>\n",
       "      <td>2012 Summer</td>\n",
       "      <td>2012</td>\n",
       "      <td>Summer</td>\n",
       "      <td>London</td>\n",
       "      <td>Judo</td>\n",
       "      <td>Judo Men's Extra-Lightweight</td>\n",
       "      <td>NA</td>\n",
       "    </tr>\n",
       "    <tr>\n",
       "      <th>2</th>\n",
       "      <td>3</td>\n",
       "      <td>Gunnar Nielsen Aaby</td>\n",
       "      <td>M</td>\n",
       "      <td>24</td>\n",
       "      <td>NA</td>\n",
       "      <td>NA</td>\n",
       "      <td>Denmark</td>\n",
       "      <td>DEN</td>\n",
       "      <td>1920 Summer</td>\n",
       "      <td>1920</td>\n",
       "      <td>Summer</td>\n",
       "      <td>Antwerpen</td>\n",
       "      <td>Football</td>\n",
       "      <td>Football Men's Football</td>\n",
       "      <td>NA</td>\n",
       "    </tr>\n",
       "    <tr>\n",
       "      <th>3</th>\n",
       "      <td>4</td>\n",
       "      <td>Edgar Lindenau Aabye</td>\n",
       "      <td>M</td>\n",
       "      <td>34</td>\n",
       "      <td>NA</td>\n",
       "      <td>NA</td>\n",
       "      <td>Denmark/Sweden</td>\n",
       "      <td>DEN</td>\n",
       "      <td>1900 Summer</td>\n",
       "      <td>1900</td>\n",
       "      <td>Summer</td>\n",
       "      <td>Paris</td>\n",
       "      <td>Tug-Of-War</td>\n",
       "      <td>Tug-Of-War Men's Tug-Of-War</td>\n",
       "      <td>Gold</td>\n",
       "    </tr>\n",
       "    <tr>\n",
       "      <th>4</th>\n",
       "      <td>5</td>\n",
       "      <td>Christine Jacoba Aaftink</td>\n",
       "      <td>F</td>\n",
       "      <td>21</td>\n",
       "      <td>185</td>\n",
       "      <td>82</td>\n",
       "      <td>Netherlands</td>\n",
       "      <td>NED</td>\n",
       "      <td>1988 Winter</td>\n",
       "      <td>1988</td>\n",
       "      <td>Winter</td>\n",
       "      <td>Calgary</td>\n",
       "      <td>Speed Skating</td>\n",
       "      <td>Speed Skating Women's 500 metres</td>\n",
       "      <td>NA</td>\n",
       "    </tr>\n",
       "    <tr>\n",
       "      <th>5</th>\n",
       "      <td>5</td>\n",
       "      <td>Christine Jacoba Aaftink</td>\n",
       "      <td>F</td>\n",
       "      <td>21</td>\n",
       "      <td>185</td>\n",
       "      <td>82</td>\n",
       "      <td>Netherlands</td>\n",
       "      <td>NED</td>\n",
       "      <td>1988 Winter</td>\n",
       "      <td>1988</td>\n",
       "      <td>Winter</td>\n",
       "      <td>Calgary</td>\n",
       "      <td>Speed Skating</td>\n",
       "      <td>Speed Skating Women's 1,000 metres</td>\n",
       "      <td>NA</td>\n",
       "    </tr>\n",
       "    <tr>\n",
       "      <th>6</th>\n",
       "      <td>5</td>\n",
       "      <td>Christine Jacoba Aaftink</td>\n",
       "      <td>F</td>\n",
       "      <td>25</td>\n",
       "      <td>185</td>\n",
       "      <td>82</td>\n",
       "      <td>Netherlands</td>\n",
       "      <td>NED</td>\n",
       "      <td>1992 Winter</td>\n",
       "      <td>1992</td>\n",
       "      <td>Winter</td>\n",
       "      <td>Albertville</td>\n",
       "      <td>Speed Skating</td>\n",
       "      <td>Speed Skating Women's 500 metres</td>\n",
       "      <td>NA</td>\n",
       "    </tr>\n",
       "    <tr>\n",
       "      <th>7</th>\n",
       "      <td>5</td>\n",
       "      <td>Christine Jacoba Aaftink</td>\n",
       "      <td>F</td>\n",
       "      <td>25</td>\n",
       "      <td>185</td>\n",
       "      <td>82</td>\n",
       "      <td>Netherlands</td>\n",
       "      <td>NED</td>\n",
       "      <td>1992 Winter</td>\n",
       "      <td>1992</td>\n",
       "      <td>Winter</td>\n",
       "      <td>Albertville</td>\n",
       "      <td>Speed Skating</td>\n",
       "      <td>Speed Skating Women's 1,000 metres</td>\n",
       "      <td>NA</td>\n",
       "    </tr>\n",
       "    <tr>\n",
       "      <th>8</th>\n",
       "      <td>5</td>\n",
       "      <td>Christine Jacoba Aaftink</td>\n",
       "      <td>F</td>\n",
       "      <td>27</td>\n",
       "      <td>185</td>\n",
       "      <td>82</td>\n",
       "      <td>Netherlands</td>\n",
       "      <td>NED</td>\n",
       "      <td>1994 Winter</td>\n",
       "      <td>1994</td>\n",
       "      <td>Winter</td>\n",
       "      <td>Lillehammer</td>\n",
       "      <td>Speed Skating</td>\n",
       "      <td>Speed Skating Women's 500 metres</td>\n",
       "      <td>NA</td>\n",
       "    </tr>\n",
       "    <tr>\n",
       "      <th>9</th>\n",
       "      <td>5</td>\n",
       "      <td>Christine Jacoba Aaftink</td>\n",
       "      <td>F</td>\n",
       "      <td>27</td>\n",
       "      <td>185</td>\n",
       "      <td>82</td>\n",
       "      <td>Netherlands</td>\n",
       "      <td>NED</td>\n",
       "      <td>1994 Winter</td>\n",
       "      <td>1994</td>\n",
       "      <td>Winter</td>\n",
       "      <td>Lillehammer</td>\n",
       "      <td>Speed Skating</td>\n",
       "      <td>Speed Skating Women's 1,000 metres</td>\n",
       "      <td>NA</td>\n",
       "    </tr>\n",
       "  </tbody>\n",
       "</table>\n",
       "</div>"
      ],
      "text/plain": [
       "   id                      name sex age height weight            team  noc  \\\n",
       "0   1                 A Dijiang   M  24    180     80           China  CHN   \n",
       "1   2                  A Lamusi   M  23    170     60           China  CHN   \n",
       "2   3       Gunnar Nielsen Aaby   M  24     NA     NA         Denmark  DEN   \n",
       "3   4      Edgar Lindenau Aabye   M  34     NA     NA  Denmark/Sweden  DEN   \n",
       "4   5  Christine Jacoba Aaftink   F  21    185     82     Netherlands  NED   \n",
       "5   5  Christine Jacoba Aaftink   F  21    185     82     Netherlands  NED   \n",
       "6   5  Christine Jacoba Aaftink   F  25    185     82     Netherlands  NED   \n",
       "7   5  Christine Jacoba Aaftink   F  25    185     82     Netherlands  NED   \n",
       "8   5  Christine Jacoba Aaftink   F  27    185     82     Netherlands  NED   \n",
       "9   5  Christine Jacoba Aaftink   F  27    185     82     Netherlands  NED   \n",
       "\n",
       "         games  year  season         city          sport  \\\n",
       "0  1992 Summer  1992  Summer    Barcelona     Basketball   \n",
       "1  2012 Summer  2012  Summer       London           Judo   \n",
       "2  1920 Summer  1920  Summer    Antwerpen       Football   \n",
       "3  1900 Summer  1900  Summer        Paris     Tug-Of-War   \n",
       "4  1988 Winter  1988  Winter      Calgary  Speed Skating   \n",
       "5  1988 Winter  1988  Winter      Calgary  Speed Skating   \n",
       "6  1992 Winter  1992  Winter  Albertville  Speed Skating   \n",
       "7  1992 Winter  1992  Winter  Albertville  Speed Skating   \n",
       "8  1994 Winter  1994  Winter  Lillehammer  Speed Skating   \n",
       "9  1994 Winter  1994  Winter  Lillehammer  Speed Skating   \n",
       "\n",
       "                                event medal  \n",
       "0         Basketball Men's Basketball    NA  \n",
       "1        Judo Men's Extra-Lightweight    NA  \n",
       "2             Football Men's Football    NA  \n",
       "3         Tug-Of-War Men's Tug-Of-War  Gold  \n",
       "4    Speed Skating Women's 500 metres    NA  \n",
       "5  Speed Skating Women's 1,000 metres    NA  \n",
       "6    Speed Skating Women's 500 metres    NA  \n",
       "7  Speed Skating Women's 1,000 metres    NA  \n",
       "8    Speed Skating Women's 500 metres    NA  \n",
       "9  Speed Skating Women's 1,000 metres    NA  "
      ]
     },
     "execution_count": 8,
     "metadata": {},
     "output_type": "execute_result"
    }
   ],
   "source": [
    "df = psql.read_sql(query, con=conn)\n",
    "df"
   ]
  },
  {
   "cell_type": "markdown",
   "metadata": {},
   "source": [
    "# 1. Analysis"
   ]
  },
  {
   "cell_type": "markdown",
   "metadata": {},
   "source": [
    "## 1. Sports that were played in all the olympics."
   ]
  },
  {
   "cell_type": "code",
   "execution_count": 14,
   "metadata": {},
   "outputs": [],
   "source": [
    "query1 = \"\"\"with t1 as \n",
    "\t(\t-- count the total summer olympics , 29\n",
    "\t\tselect count (distinct games) as total_summer_olympics\n",
    "\t\tfrom olympics.olympics_data\n",
    "\t\twhere season = 'Summer'\n",
    "\t),\n",
    "\t\n",
    "\tt2 as \n",
    "\t(\t-- all the distinct sports played in each olympics, ordered by games (olympic edition)\n",
    "\t\tselect distinct sport, games \n",
    "\t\tfrom olympics.olympics_data\n",
    "\t\twhere season = 'Summer'\n",
    "\t\torder by games\n",
    "\t),\n",
    "\t\n",
    "\tt3 as \n",
    "\t( \t-- all the sports and how many olympics they were part of\n",
    "\t\tselect sport, count(games) as no_of_games\n",
    "\t\tfrom t2 group by sport\n",
    "\t)\n",
    "select * from t3\n",
    "join t1 on t1.total_summer_olympics = t3.no_of_games;\"\"\""
   ]
  },
  {
   "cell_type": "code",
   "execution_count": 15,
   "metadata": {},
   "outputs": [
    {
     "name": "stderr",
     "output_type": "stream",
     "text": [
      "/home/kaushal/.local/lib/python3.8/site-packages/pandas/io/sql.py:762: UserWarning: pandas only support SQLAlchemy connectable(engine/connection) ordatabase string URI or sqlite3 DBAPI2 connectionother DBAPI2 objects are not tested, please consider using SQLAlchemy\n",
      "  warnings.warn(\n"
     ]
    },
    {
     "data": {
      "text/html": [
       "<div>\n",
       "<style scoped>\n",
       "    .dataframe tbody tr th:only-of-type {\n",
       "        vertical-align: middle;\n",
       "    }\n",
       "\n",
       "    .dataframe tbody tr th {\n",
       "        vertical-align: top;\n",
       "    }\n",
       "\n",
       "    .dataframe thead th {\n",
       "        text-align: right;\n",
       "    }\n",
       "</style>\n",
       "<table border=\"1\" class=\"dataframe\">\n",
       "  <thead>\n",
       "    <tr style=\"text-align: right;\">\n",
       "      <th></th>\n",
       "      <th>sport</th>\n",
       "      <th>no_of_games</th>\n",
       "      <th>total_summer_olympics</th>\n",
       "    </tr>\n",
       "  </thead>\n",
       "  <tbody>\n",
       "    <tr>\n",
       "      <th>0</th>\n",
       "      <td>Swimming</td>\n",
       "      <td>29</td>\n",
       "      <td>29</td>\n",
       "    </tr>\n",
       "    <tr>\n",
       "      <th>1</th>\n",
       "      <td>Cycling</td>\n",
       "      <td>29</td>\n",
       "      <td>29</td>\n",
       "    </tr>\n",
       "    <tr>\n",
       "      <th>2</th>\n",
       "      <td>Fencing</td>\n",
       "      <td>29</td>\n",
       "      <td>29</td>\n",
       "    </tr>\n",
       "    <tr>\n",
       "      <th>3</th>\n",
       "      <td>Gymnastics</td>\n",
       "      <td>29</td>\n",
       "      <td>29</td>\n",
       "    </tr>\n",
       "    <tr>\n",
       "      <th>4</th>\n",
       "      <td>Athletics</td>\n",
       "      <td>29</td>\n",
       "      <td>29</td>\n",
       "    </tr>\n",
       "  </tbody>\n",
       "</table>\n",
       "</div>"
      ],
      "text/plain": [
       "        sport  no_of_games  total_summer_olympics\n",
       "0    Swimming           29                     29\n",
       "1     Cycling           29                     29\n",
       "2     Fencing           29                     29\n",
       "3  Gymnastics           29                     29\n",
       "4   Athletics           29                     29"
      ]
     },
     "execution_count": 15,
     "metadata": {},
     "output_type": "execute_result"
    }
   ],
   "source": [
    "df1 = psql.read_sql(query1, con=conn)\n",
    "df1"
   ]
  },
  {
   "cell_type": "markdown",
   "metadata": {},
   "source": [
    "### *Output 1:- These are the sports which were played in all the summer olympics.* "
   ]
  },
  {
   "cell_type": "markdown",
   "metadata": {},
   "source": []
  },
  {
   "cell_type": "markdown",
   "metadata": {},
   "source": [
    "## 2. Top 5 athletes with most Golds and their countries."
   ]
  },
  {
   "cell_type": "code",
   "execution_count": 16,
   "metadata": {},
   "outputs": [],
   "source": [
    "query2 = \"\"\"with t1 as \n",
    "\t(\t-- fetches players with most golds in desc order\n",
    "\t\tselect \"name\",\"team\", count(\"name\") as medals \n",
    "\t\tfrom  olympics.olympics_data\n",
    "\t\twhere season = 'Summer' and medal = 'Gold'\n",
    "\t\tgroup by \"name\",\"team\"\n",
    "\t\torder by 2 desc\n",
    "\t),\n",
    "\t\n",
    "\tt2 as \n",
    "\t( -- ranking them on the basis of their gold medals because there are multiple players with same no of golds\n",
    "\t\tselect *, dense_rank() over(order by medals desc) as medal_rank \n",
    "\t\tfrom t1\n",
    "\t)\n",
    "select * from t2 where medal_rank <= 5;\"\"\""
   ]
  },
  {
   "cell_type": "code",
   "execution_count": 18,
   "metadata": {},
   "outputs": [
    {
     "name": "stderr",
     "output_type": "stream",
     "text": [
      "/home/kaushal/.local/lib/python3.8/site-packages/pandas/io/sql.py:762: UserWarning: pandas only support SQLAlchemy connectable(engine/connection) ordatabase string URI or sqlite3 DBAPI2 connectionother DBAPI2 objects are not tested, please consider using SQLAlchemy\n",
      "  warnings.warn(\n"
     ]
    },
    {
     "data": {
      "text/html": [
       "<div>\n",
       "<style scoped>\n",
       "    .dataframe tbody tr th:only-of-type {\n",
       "        vertical-align: middle;\n",
       "    }\n",
       "\n",
       "    .dataframe tbody tr th {\n",
       "        vertical-align: top;\n",
       "    }\n",
       "\n",
       "    .dataframe thead th {\n",
       "        text-align: right;\n",
       "    }\n",
       "</style>\n",
       "<table border=\"1\" class=\"dataframe\">\n",
       "  <thead>\n",
       "    <tr style=\"text-align: right;\">\n",
       "      <th></th>\n",
       "      <th>name</th>\n",
       "      <th>team</th>\n",
       "      <th>medals</th>\n",
       "      <th>medal_rank</th>\n",
       "    </tr>\n",
       "  </thead>\n",
       "  <tbody>\n",
       "    <tr>\n",
       "      <th>0</th>\n",
       "      <td>Michael Fred Phelps, II</td>\n",
       "      <td>United States</td>\n",
       "      <td>23</td>\n",
       "      <td>1</td>\n",
       "    </tr>\n",
       "    <tr>\n",
       "      <th>1</th>\n",
       "      <td>Raymond Clarence \"Ray\" Ewry</td>\n",
       "      <td>United States</td>\n",
       "      <td>10</td>\n",
       "      <td>2</td>\n",
       "    </tr>\n",
       "    <tr>\n",
       "      <th>2</th>\n",
       "      <td>Larysa Semenivna Latynina (Diriy-)</td>\n",
       "      <td>Soviet Union</td>\n",
       "      <td>9</td>\n",
       "      <td>3</td>\n",
       "    </tr>\n",
       "    <tr>\n",
       "      <th>3</th>\n",
       "      <td>Paavo Johannes Nurmi</td>\n",
       "      <td>Finland</td>\n",
       "      <td>9</td>\n",
       "      <td>3</td>\n",
       "    </tr>\n",
       "    <tr>\n",
       "      <th>4</th>\n",
       "      <td>Mark Andrew Spitz</td>\n",
       "      <td>United States</td>\n",
       "      <td>9</td>\n",
       "      <td>3</td>\n",
       "    </tr>\n",
       "    <tr>\n",
       "      <th>5</th>\n",
       "      <td>Frederick Carlton \"Carl\" Lewis</td>\n",
       "      <td>United States</td>\n",
       "      <td>9</td>\n",
       "      <td>3</td>\n",
       "    </tr>\n",
       "    <tr>\n",
       "      <th>6</th>\n",
       "      <td>Jennifer Elisabeth \"Jenny\" Thompson (-Cumpelik)</td>\n",
       "      <td>United States</td>\n",
       "      <td>8</td>\n",
       "      <td>4</td>\n",
       "    </tr>\n",
       "    <tr>\n",
       "      <th>7</th>\n",
       "      <td>Sawao Kato</td>\n",
       "      <td>Japan</td>\n",
       "      <td>8</td>\n",
       "      <td>4</td>\n",
       "    </tr>\n",
       "    <tr>\n",
       "      <th>8</th>\n",
       "      <td>Usain St. Leo Bolt</td>\n",
       "      <td>Jamaica</td>\n",
       "      <td>8</td>\n",
       "      <td>4</td>\n",
       "    </tr>\n",
       "    <tr>\n",
       "      <th>9</th>\n",
       "      <td>Matthew Nicholas \"Matt\" Biondi</td>\n",
       "      <td>United States</td>\n",
       "      <td>8</td>\n",
       "      <td>4</td>\n",
       "    </tr>\n",
       "    <tr>\n",
       "      <th>10</th>\n",
       "      <td>Aladr Gerevich (-Gerei)</td>\n",
       "      <td>Hungary</td>\n",
       "      <td>7</td>\n",
       "      <td>5</td>\n",
       "    </tr>\n",
       "    <tr>\n",
       "      <th>11</th>\n",
       "      <td>Vra slavsk (-Odloilov)</td>\n",
       "      <td>Czechoslovakia</td>\n",
       "      <td>7</td>\n",
       "      <td>5</td>\n",
       "    </tr>\n",
       "    <tr>\n",
       "      <th>12</th>\n",
       "      <td>Donald Arthur \"Don\" Schollander</td>\n",
       "      <td>United States</td>\n",
       "      <td>7</td>\n",
       "      <td>5</td>\n",
       "    </tr>\n",
       "    <tr>\n",
       "      <th>13</th>\n",
       "      <td>Viktor Ivanovych Chukarin</td>\n",
       "      <td>Soviet Union</td>\n",
       "      <td>7</td>\n",
       "      <td>5</td>\n",
       "    </tr>\n",
       "    <tr>\n",
       "      <th>14</th>\n",
       "      <td>Nikolay Yefimovich Andrianov</td>\n",
       "      <td>Soviet Union</td>\n",
       "      <td>7</td>\n",
       "      <td>5</td>\n",
       "    </tr>\n",
       "    <tr>\n",
       "      <th>15</th>\n",
       "      <td>Borys Anfiyanovych Shakhlin</td>\n",
       "      <td>Soviet Union</td>\n",
       "      <td>7</td>\n",
       "      <td>5</td>\n",
       "    </tr>\n",
       "  </tbody>\n",
       "</table>\n",
       "</div>"
      ],
      "text/plain": [
       "                                               name            team  medals  \\\n",
       "0                           Michael Fred Phelps, II   United States      23   \n",
       "1                       Raymond Clarence \"Ray\" Ewry   United States      10   \n",
       "2                Larysa Semenivna Latynina (Diriy-)    Soviet Union       9   \n",
       "3                              Paavo Johannes Nurmi         Finland       9   \n",
       "4                                 Mark Andrew Spitz   United States       9   \n",
       "5                    Frederick Carlton \"Carl\" Lewis   United States       9   \n",
       "6   Jennifer Elisabeth \"Jenny\" Thompson (-Cumpelik)   United States       8   \n",
       "7                                        Sawao Kato           Japan       8   \n",
       "8                                Usain St. Leo Bolt         Jamaica       8   \n",
       "9                    Matthew Nicholas \"Matt\" Biondi   United States       8   \n",
       "10                          Aladr Gerevich (-Gerei)         Hungary       7   \n",
       "11                           Vra slavsk (-Odloilov)  Czechoslovakia       7   \n",
       "12                  Donald Arthur \"Don\" Schollander   United States       7   \n",
       "13                        Viktor Ivanovych Chukarin    Soviet Union       7   \n",
       "14                     Nikolay Yefimovich Andrianov    Soviet Union       7   \n",
       "15                      Borys Anfiyanovych Shakhlin    Soviet Union       7   \n",
       "\n",
       "    medal_rank  \n",
       "0            1  \n",
       "1            2  \n",
       "2            3  \n",
       "3            3  \n",
       "4            3  \n",
       "5            3  \n",
       "6            4  \n",
       "7            4  \n",
       "8            4  \n",
       "9            4  \n",
       "10           5  \n",
       "11           5  \n",
       "12           5  \n",
       "13           5  \n",
       "14           5  \n",
       "15           5  "
      ]
     },
     "execution_count": 18,
     "metadata": {},
     "output_type": "execute_result"
    }
   ],
   "source": [
    "df2 = psql.read_sql(query2, con=conn)\n",
    "df2"
   ]
  },
  {
   "cell_type": "markdown",
   "metadata": {},
   "source": [
    "### *Output 2:- Michael Fred Phelps is the player with the most gold medals in Olympics*"
   ]
  },
  {
   "cell_type": "markdown",
   "metadata": {},
   "source": [
    "### Viz 1:-"
   ]
  },
  {
   "cell_type": "code",
   "execution_count": 51,
   "metadata": {},
   "outputs": [
    {
     "data": {
      "text/html": [
       "<div>\n",
       "<style scoped>\n",
       "    .dataframe tbody tr th:only-of-type {\n",
       "        vertical-align: middle;\n",
       "    }\n",
       "\n",
       "    .dataframe tbody tr th {\n",
       "        vertical-align: top;\n",
       "    }\n",
       "\n",
       "    .dataframe thead th {\n",
       "        text-align: right;\n",
       "    }\n",
       "</style>\n",
       "<table border=\"1\" class=\"dataframe\">\n",
       "  <thead>\n",
       "    <tr style=\"text-align: right;\">\n",
       "      <th></th>\n",
       "      <th>name</th>\n",
       "      <th>team</th>\n",
       "      <th>medals</th>\n",
       "      <th>medal_rank</th>\n",
       "      <th>name_country</th>\n",
       "    </tr>\n",
       "  </thead>\n",
       "  <tbody>\n",
       "    <tr>\n",
       "      <th>0</th>\n",
       "      <td>Michael Fred Phelps, II</td>\n",
       "      <td>United States</td>\n",
       "      <td>23</td>\n",
       "      <td>1</td>\n",
       "      <td>Michael Fred Phelps, II (United States)</td>\n",
       "    </tr>\n",
       "    <tr>\n",
       "      <th>1</th>\n",
       "      <td>Raymond Clarence \"Ray\" Ewry</td>\n",
       "      <td>United States</td>\n",
       "      <td>10</td>\n",
       "      <td>2</td>\n",
       "      <td>Raymond Clarence \"Ray\" Ewry (United States)</td>\n",
       "    </tr>\n",
       "    <tr>\n",
       "      <th>2</th>\n",
       "      <td>Larysa Semenivna Latynina (Diriy-)</td>\n",
       "      <td>Soviet Union</td>\n",
       "      <td>9</td>\n",
       "      <td>3</td>\n",
       "      <td>Larysa Semenivna Latynina (Diriy-) (Soviet Union)</td>\n",
       "    </tr>\n",
       "    <tr>\n",
       "      <th>3</th>\n",
       "      <td>Paavo Johannes Nurmi</td>\n",
       "      <td>Finland</td>\n",
       "      <td>9</td>\n",
       "      <td>3</td>\n",
       "      <td>Paavo Johannes Nurmi (Finland)</td>\n",
       "    </tr>\n",
       "    <tr>\n",
       "      <th>4</th>\n",
       "      <td>Mark Andrew Spitz</td>\n",
       "      <td>United States</td>\n",
       "      <td>9</td>\n",
       "      <td>3</td>\n",
       "      <td>Mark Andrew Spitz (United States)</td>\n",
       "    </tr>\n",
       "  </tbody>\n",
       "</table>\n",
       "</div>"
      ],
      "text/plain": [
       "                                 name           team  medals  medal_rank  \\\n",
       "0             Michael Fred Phelps, II  United States      23           1   \n",
       "1         Raymond Clarence \"Ray\" Ewry  United States      10           2   \n",
       "2  Larysa Semenivna Latynina (Diriy-)   Soviet Union       9           3   \n",
       "3                Paavo Johannes Nurmi        Finland       9           3   \n",
       "4                   Mark Andrew Spitz  United States       9           3   \n",
       "\n",
       "                                        name_country  \n",
       "0            Michael Fred Phelps, II (United States)  \n",
       "1        Raymond Clarence \"Ray\" Ewry (United States)  \n",
       "2  Larysa Semenivna Latynina (Diriy-) (Soviet Union)  \n",
       "3                     Paavo Johannes Nurmi (Finland)  \n",
       "4                  Mark Andrew Spitz (United States)  "
      ]
     },
     "execution_count": 51,
     "metadata": {},
     "output_type": "execute_result"
    }
   ],
   "source": [
    "df2['name_country'] = df2['name'] + ' (' + df2['team'] +')'\n",
    "df2.head()"
   ]
  },
  {
   "cell_type": "code",
   "execution_count": 56,
   "metadata": {},
   "outputs": [],
   "source": [
    "df2 = df2.head(10)\n"
   ]
  },
  {
   "cell_type": "code",
   "execution_count": 116,
   "metadata": {},
   "outputs": [
    {
     "data": {
      "image/png": "[encoded data removed]",
      "text/plain": [
       "<Figure size 1008x720 with 1 Axes>"
      ]
     },
     "metadata": {},
     "output_type": "display_data"
    }
   ],
   "source": [
    "fig, ax1 = plt.subplots(figsize=(14,10),facecolor=(.92, .92, .92))\n",
    "fontdict = {'fontsize':16, 'fontweight':'bold'}\n",
    "title_fontdict = {'fontsize':20, 'fontweight':'bold','fontname':'Times New Roman'}\n",
    "\n",
    "# for ax1\n",
    "color = ['#32628d', '#cde01d', '#7eb54e', '#d928ed','#f70a41','#20888a','#f23329','#cde01d']\n",
    "bars = ax1.barh(df2['name_country'], df2['medals'], color = color)\n",
    "ax1.set_ylabel(\"Players (Country)\",fontdict=fontdict, labelpad=16)\n",
    "ax1.set_xlabel(\"Total Golds\",fontdict=fontdict, labelpad=16)\n",
    "ax1.tick_params(axis='both', which='major', labelsize=13)\n",
    "ax1.bar_label(bars, padding=3, fontsize=12)\n",
    "ax1.set_title(\"Athletes With Most Gold Medals\",fontdict=title_fontdict, pad=20,loc='left')\n",
    "ax1.invert_yaxis()  "
   ]
  },
  {
   "cell_type": "markdown",
   "metadata": {},
   "source": [
    "## 3. Total golds, silvers and bronzes won by each country."
   ]
  },
  {
   "cell_type": "code",
   "execution_count": 9,
   "metadata": {},
   "outputs": [],
   "source": [
    "query3 = \"\"\"select country,\n",
    "\t\tcoalesce(gold,0) as gold,  -- replacing null with 0\n",
    "\t\tcoalesce(silver,0) as silver,  \n",
    "\t\tcoalesce(bronze,0) as bronze  \n",
    "\t\t\n",
    "\t\t-- inner query of crosstab can't have more than 3 columns\n",
    "\t\tfrom crosstab(' select onr.region as country, medal,count(medal)\n",
    "\t\t\t\t\t\tfrom olympics.olympics_data od\n",
    "\t\t\t\t\t\tjoin olympics.olympics_noc_regions onr on onr.noc = od.noc\n",
    "\t\t\t\t\t\twhere medal <> ''NA''\n",
    "\t\t\t\t\t\tgroup by onr.region, medal\n",
    "\t\t\t\t\t\torder by onr.region, medal',\n",
    "\t\t\t\t\t\t'values (''Bronze''),(''Gold''),(''Silver'')'\n",
    "\t\t\t\t\t )\n",
    "\t\tas result (country varchar, bronze bigint, gold bigint, silver bigint)\n",
    "\torder by gold desc, silver desc, bronze desc;\t\t\n",
    "\"\"\""
   ]
  },
  {
   "cell_type": "code",
   "execution_count": 10,
   "metadata": {},
   "outputs": [
    {
     "name": "stderr",
     "output_type": "stream",
     "text": [
      "/home/kaushal/.local/lib/python3.8/site-packages/pandas/io/sql.py:762: UserWarning: pandas only support SQLAlchemy connectable(engine/connection) ordatabase string URI or sqlite3 DBAPI2 connectionother DBAPI2 objects are not tested, please consider using SQLAlchemy\n",
      "  warnings.warn(\n"
     ]
    },
    {
     "data": {
      "text/html": [
       "<div>\n",
       "<style scoped>\n",
       "    .dataframe tbody tr th:only-of-type {\n",
       "        vertical-align: middle;\n",
       "    }\n",
       "\n",
       "    .dataframe tbody tr th {\n",
       "        vertical-align: top;\n",
       "    }\n",
       "\n",
       "    .dataframe thead th {\n",
       "        text-align: right;\n",
       "    }\n",
       "</style>\n",
       "<table border=\"1\" class=\"dataframe\">\n",
       "  <thead>\n",
       "    <tr style=\"text-align: right;\">\n",
       "      <th></th>\n",
       "      <th>country</th>\n",
       "      <th>gold</th>\n",
       "      <th>silver</th>\n",
       "      <th>bronze</th>\n",
       "    </tr>\n",
       "  </thead>\n",
       "  <tbody>\n",
       "    <tr>\n",
       "      <th>0</th>\n",
       "      <td>USA</td>\n",
       "      <td>2638</td>\n",
       "      <td>1641</td>\n",
       "      <td>1358</td>\n",
       "    </tr>\n",
       "    <tr>\n",
       "      <th>1</th>\n",
       "      <td>Russia</td>\n",
       "      <td>1599</td>\n",
       "      <td>1170</td>\n",
       "      <td>1178</td>\n",
       "    </tr>\n",
       "    <tr>\n",
       "      <th>2</th>\n",
       "      <td>Germany</td>\n",
       "      <td>1301</td>\n",
       "      <td>1195</td>\n",
       "      <td>1260</td>\n",
       "    </tr>\n",
       "    <tr>\n",
       "      <th>3</th>\n",
       "      <td>UK</td>\n",
       "      <td>678</td>\n",
       "      <td>739</td>\n",
       "      <td>651</td>\n",
       "    </tr>\n",
       "    <tr>\n",
       "      <th>4</th>\n",
       "      <td>Italy</td>\n",
       "      <td>575</td>\n",
       "      <td>531</td>\n",
       "      <td>531</td>\n",
       "    </tr>\n",
       "    <tr>\n",
       "      <th>5</th>\n",
       "      <td>France</td>\n",
       "      <td>501</td>\n",
       "      <td>610</td>\n",
       "      <td>666</td>\n",
       "    </tr>\n",
       "    <tr>\n",
       "      <th>6</th>\n",
       "      <td>Sweden</td>\n",
       "      <td>479</td>\n",
       "      <td>522</td>\n",
       "      <td>535</td>\n",
       "    </tr>\n",
       "    <tr>\n",
       "      <th>7</th>\n",
       "      <td>Canada</td>\n",
       "      <td>463</td>\n",
       "      <td>438</td>\n",
       "      <td>451</td>\n",
       "    </tr>\n",
       "    <tr>\n",
       "      <th>8</th>\n",
       "      <td>Hungary</td>\n",
       "      <td>432</td>\n",
       "      <td>332</td>\n",
       "      <td>371</td>\n",
       "    </tr>\n",
       "    <tr>\n",
       "      <th>9</th>\n",
       "      <td>Norway</td>\n",
       "      <td>378</td>\n",
       "      <td>361</td>\n",
       "      <td>294</td>\n",
       "    </tr>\n",
       "  </tbody>\n",
       "</table>\n",
       "</div>"
      ],
      "text/plain": [
       "   country  gold  silver  bronze\n",
       "0      USA  2638    1641    1358\n",
       "1   Russia  1599    1170    1178\n",
       "2  Germany  1301    1195    1260\n",
       "3       UK   678     739     651\n",
       "4    Italy   575     531     531\n",
       "5   France   501     610     666\n",
       "6   Sweden   479     522     535\n",
       "7   Canada   463     438     451\n",
       "8  Hungary   432     332     371\n",
       "9   Norway   378     361     294"
      ]
     },
     "execution_count": 10,
     "metadata": {},
     "output_type": "execute_result"
    }
   ],
   "source": [
    "df3 = psql.read_sql(query3, con=conn)\n",
    "df3.head(10)"
   ]
  },
  {
   "cell_type": "markdown",
   "metadata": {},
   "source": [
    "### *Output 3:- USA tops the list with highest golds, followed by Russia and Germany. Interestengly, USA also tops the list of both silver and bronze medal counts.*"
   ]
  },
  {
   "cell_type": "markdown",
   "metadata": {},
   "source": [
    "### Viz 2:-"
   ]
  },
  {
   "cell_type": "code",
   "execution_count": 11,
   "metadata": {},
   "outputs": [],
   "source": [
    "df3 = df3.head(10)"
   ]
  },
  {
   "cell_type": "code",
   "execution_count": 33,
   "metadata": {},
   "outputs": [
    {
     "data": {
      "image/png": "[encoded data removed]",
      "text/plain": [
       "<Figure size 1728x720 with 1 Axes>"
      ]
     },
     "metadata": {},
     "output_type": "display_data"
    }
   ],
   "source": [
    "fig, ax1 = plt.subplots(figsize=(24,10),facecolor=(.92, .92, .92))\n",
    "fontdict = {'fontsize':16, 'fontweight':'bold'}\n",
    "title_fontdict = {'fontsize':20, 'fontweight':'bold','fontname':'Times New Roman'}\n",
    "\n",
    "# for ax3\n",
    "x = np.arange(len(df3['gold']))  # the label locations\n",
    "width = 0.28  # the width of the bars\n",
    "rects1 = ax1.bar(x-width, df3['gold'],width=width, color = \"#fcba03\", label =\"Gold\")\n",
    "rects2 = ax1.bar(x, df3['silver'],width=width, color = \"#b8b7b4\", label =\"Silver\")\n",
    "rects3 = ax1.bar(x+width, df3['bronze'],width=width, color = \"#CD7F32\", label =\"Bronze\")\n",
    "\n",
    "# Add some text for labels, title and custom x-axis tick labels, etc.\n",
    "ax1.set_xlabel('Countries',labelpad=16, fontdict=fontdict )\n",
    "ax1.set_ylabel('Medals',labelpad=16, fontdict=fontdict)\n",
    "ax1.set_title(\"Countries With The Most Gold Medals\",fontdict=title_fontdict, pad=20)\n",
    "ax1.set_xticks(x, df3['country'],weight = 'bold', rotation=70)\n",
    "ax1.tick_params(axis='y', which='major', labelsize=12)\n",
    "ax1.bar_label(rects1, padding=3, fontsize=12)\n",
    "ax1.bar_label(rects2, padding=3, fontsize=12)\n",
    "ax1.bar_label(rects3, padding=3, fontsize=12)\n",
    "\n",
    "ax1.legend()\n",
    "\n",
    "plt.show()"
   ]
  },
  {
   "cell_type": "markdown",
   "metadata": {},
   "source": [
    "## 4. Which countries won the most golds, silvers and bronzes in each olympic ?"
   ]
  },
  {
   "cell_type": "code",
   "execution_count": 22,
   "metadata": {},
   "outputs": [],
   "source": [
    "query4 = \"\"\"with temp as\n",
    "(\t\n",
    "\tselect substring(games_country, 1, position(' - ' in games_country) -1) as games,\n",
    "\t\t\tsubstring(games_country, position(' - ' in games_country) +3) as country,\n",
    "\t\t\tcoalesce(gold,0) as gold,  -- replacing null with 0\n",
    "\t\t\tcoalesce(silver,0) as silver,  \n",
    "\t\t\tcoalesce(bronze,0) as bronze \n",
    "\n",
    "\t\t\tfrom crosstab(' select concat(games, '' - '', onr.region) as games_country, medal,count(medal)\n",
    "\t\t\t\t\t\t\tfrom olympics.olympics_data od\n",
    "\t\t\t\t\t\t\tjoin olympics.olympics_noc_regions onr on onr.noc = od.noc\n",
    "\t\t\t\t\t\t\twhere medal <> ''NA''\n",
    "\t\t\t\t\t\t\tgroup by games, onr.region, medal\n",
    "\t\t\t\t\t\t\torder by games, onr.region, medal',\n",
    "\t\t\t\t\t\t\t'values (''Bronze''),(''Gold''),(''Silver'')'\n",
    "\t\t\t\t\t\t )\n",
    "\t\t\tas result (games_country varchar, bronze bigint, gold bigint, silver bigint)\n",
    "\t\torder by games_country \n",
    ")\n",
    "\n",
    "select distinct games,\n",
    "\t\tconcat(first_value(country) over(partition by games order by gold desc), ' - ', \n",
    "\t\t\t  \tfirst_value(gold) over(partition by games order by gold desc)) as gold, \n",
    "\t\t\n",
    "\t\tconcat(first_value(country) over(partition by games order by silver desc), ' - ', \n",
    "\t\t\t  \tfirst_value(silver) over(partition by games order by silver desc)) as silver, \n",
    "\t\t\t\t\n",
    "\t\tconcat(first_value(country) over(partition by games order by bronze desc), ' - ', \n",
    "\t\t\t  \tfirst_value(bronze) over(partition by games order by bronze desc)) as bronze\n",
    "from temp\n",
    "order by games;\"\"\""
   ]
  },
  {
   "cell_type": "code",
   "execution_count": 24,
   "metadata": {},
   "outputs": [
    {
     "name": "stderr",
     "output_type": "stream",
     "text": [
      "/home/kaushal/.local/lib/python3.8/site-packages/pandas/io/sql.py:762: UserWarning: pandas only support SQLAlchemy connectable(engine/connection) ordatabase string URI or sqlite3 DBAPI2 connectionother DBAPI2 objects are not tested, please consider using SQLAlchemy\n",
      "  warnings.warn(\n"
     ]
    },
    {
     "data": {
      "text/html": [
       "<div>\n",
       "<style scoped>\n",
       "    .dataframe tbody tr th:only-of-type {\n",
       "        vertical-align: middle;\n",
       "    }\n",
       "\n",
       "    .dataframe tbody tr th {\n",
       "        vertical-align: top;\n",
       "    }\n",
       "\n",
       "    .dataframe thead th {\n",
       "        text-align: right;\n",
       "    }\n",
       "</style>\n",
       "<table border=\"1\" class=\"dataframe\">\n",
       "  <thead>\n",
       "    <tr style=\"text-align: right;\">\n",
       "      <th></th>\n",
       "      <th>games</th>\n",
       "      <th>gold</th>\n",
       "      <th>silver</th>\n",
       "      <th>bronze</th>\n",
       "    </tr>\n",
       "  </thead>\n",
       "  <tbody>\n",
       "    <tr>\n",
       "      <th>0</th>\n",
       "      <td>1896 Summer</td>\n",
       "      <td>Germany - 25</td>\n",
       "      <td>Greece - 18</td>\n",
       "      <td>Greece - 20</td>\n",
       "    </tr>\n",
       "    <tr>\n",
       "      <th>1</th>\n",
       "      <td>1900 Summer</td>\n",
       "      <td>UK - 59</td>\n",
       "      <td>France - 101</td>\n",
       "      <td>France - 82</td>\n",
       "    </tr>\n",
       "    <tr>\n",
       "      <th>2</th>\n",
       "      <td>1904 Summer</td>\n",
       "      <td>USA - 128</td>\n",
       "      <td>USA - 141</td>\n",
       "      <td>USA - 125</td>\n",
       "    </tr>\n",
       "    <tr>\n",
       "      <th>3</th>\n",
       "      <td>1906 Summer</td>\n",
       "      <td>Greece - 24</td>\n",
       "      <td>Greece - 48</td>\n",
       "      <td>Greece - 30</td>\n",
       "    </tr>\n",
       "    <tr>\n",
       "      <th>4</th>\n",
       "      <td>1908 Summer</td>\n",
       "      <td>UK - 147</td>\n",
       "      <td>UK - 131</td>\n",
       "      <td>UK - 90</td>\n",
       "    </tr>\n",
       "    <tr>\n",
       "      <th>5</th>\n",
       "      <td>1912 Summer</td>\n",
       "      <td>Sweden - 103</td>\n",
       "      <td>UK - 64</td>\n",
       "      <td>UK - 59</td>\n",
       "    </tr>\n",
       "    <tr>\n",
       "      <th>6</th>\n",
       "      <td>1920 Summer</td>\n",
       "      <td>USA - 111</td>\n",
       "      <td>France - 71</td>\n",
       "      <td>Belgium - 66</td>\n",
       "    </tr>\n",
       "    <tr>\n",
       "      <th>7</th>\n",
       "      <td>1924 Summer</td>\n",
       "      <td>USA - 97</td>\n",
       "      <td>France - 51</td>\n",
       "      <td>USA - 49</td>\n",
       "    </tr>\n",
       "    <tr>\n",
       "      <th>8</th>\n",
       "      <td>1924 Winter</td>\n",
       "      <td>UK - 16</td>\n",
       "      <td>USA - 10</td>\n",
       "      <td>UK - 11</td>\n",
       "    </tr>\n",
       "    <tr>\n",
       "      <th>9</th>\n",
       "      <td>1928 Summer</td>\n",
       "      <td>USA - 47</td>\n",
       "      <td>Netherlands - 29</td>\n",
       "      <td>Germany - 41</td>\n",
       "    </tr>\n",
       "  </tbody>\n",
       "</table>\n",
       "</div>"
      ],
      "text/plain": [
       "         games          gold            silver        bronze\n",
       "0  1896 Summer  Germany - 25       Greece - 18   Greece - 20\n",
       "1  1900 Summer       UK - 59      France - 101   France - 82\n",
       "2  1904 Summer     USA - 128         USA - 141     USA - 125\n",
       "3  1906 Summer   Greece - 24       Greece - 48   Greece - 30\n",
       "4  1908 Summer      UK - 147          UK - 131       UK - 90\n",
       "5  1912 Summer  Sweden - 103           UK - 64       UK - 59\n",
       "6  1920 Summer     USA - 111       France - 71  Belgium - 66\n",
       "7  1924 Summer      USA - 97       France - 51      USA - 49\n",
       "8  1924 Winter       UK - 16          USA - 10       UK - 11\n",
       "9  1928 Summer      USA - 47  Netherlands - 29  Germany - 41"
      ]
     },
     "execution_count": 24,
     "metadata": {},
     "output_type": "execute_result"
    }
   ],
   "source": [
    "df4 = psql.read_sql(query4, con=conn)\n",
    "df4.head(10)"
   ]
  },
  {
   "cell_type": "markdown",
   "metadata": {},
   "source": [
    "### *Output 4:- Countries that topped the medal chart in each olympic along with their medal counts.*"
   ]
  },
  {
   "cell_type": "markdown",
   "metadata": {},
   "source": [
    "## 5. Olympics and number of participating countries."
   ]
  },
  {
   "cell_type": "code",
   "execution_count": 25,
   "metadata": {},
   "outputs": [],
   "source": [
    "query5 = \"\"\"select games,count( distinct noc) from olympics.olympics_data  \n",
    "-- where season = 'Summer'\n",
    "group by games\n",
    "order by 2 desc;\"\"\""
   ]
  },
  {
   "cell_type": "code",
   "execution_count": 27,
   "metadata": {},
   "outputs": [
    {
     "name": "stderr",
     "output_type": "stream",
     "text": [
      "/home/kaushal/.local/lib/python3.8/site-packages/pandas/io/sql.py:762: UserWarning: pandas only support SQLAlchemy connectable(engine/connection) ordatabase string URI or sqlite3 DBAPI2 connectionother DBAPI2 objects are not tested, please consider using SQLAlchemy\n",
      "  warnings.warn(\n"
     ]
    },
    {
     "data": {
      "text/html": [
       "<div>\n",
       "<style scoped>\n",
       "    .dataframe tbody tr th:only-of-type {\n",
       "        vertical-align: middle;\n",
       "    }\n",
       "\n",
       "    .dataframe tbody tr th {\n",
       "        vertical-align: top;\n",
       "    }\n",
       "\n",
       "    .dataframe thead th {\n",
       "        text-align: right;\n",
       "    }\n",
       "</style>\n",
       "<table border=\"1\" class=\"dataframe\">\n",
       "  <thead>\n",
       "    <tr style=\"text-align: right;\">\n",
       "      <th></th>\n",
       "      <th>games</th>\n",
       "      <th>count</th>\n",
       "    </tr>\n",
       "  </thead>\n",
       "  <tbody>\n",
       "    <tr>\n",
       "      <th>0</th>\n",
       "      <td>2016 Summer</td>\n",
       "      <td>207</td>\n",
       "    </tr>\n",
       "    <tr>\n",
       "      <th>1</th>\n",
       "      <td>2012 Summer</td>\n",
       "      <td>205</td>\n",
       "    </tr>\n",
       "    <tr>\n",
       "      <th>2</th>\n",
       "      <td>2008 Summer</td>\n",
       "      <td>204</td>\n",
       "    </tr>\n",
       "    <tr>\n",
       "      <th>3</th>\n",
       "      <td>2004 Summer</td>\n",
       "      <td>201</td>\n",
       "    </tr>\n",
       "    <tr>\n",
       "      <th>4</th>\n",
       "      <td>2000 Summer</td>\n",
       "      <td>200</td>\n",
       "    </tr>\n",
       "  </tbody>\n",
       "</table>\n",
       "</div>"
      ],
      "text/plain": [
       "         games  count\n",
       "0  2016 Summer    207\n",
       "1  2012 Summer    205\n",
       "2  2008 Summer    204\n",
       "3  2004 Summer    201\n",
       "4  2000 Summer    200"
      ]
     },
     "execution_count": 27,
     "metadata": {},
     "output_type": "execute_result"
    }
   ],
   "source": [
    "df5 = psql.read_sql(query5, con=conn)\n",
    "df5.head(5)"
   ]
  },
  {
   "cell_type": "markdown",
   "metadata": {},
   "source": [
    "### *Output 5:- The number of participating coutries has increased with time. Almost all countries are taking part in the recent olympics.*"
   ]
  },
  {
   "cell_type": "markdown",
   "metadata": {},
   "source": [
    "### Viz 3:-"
   ]
  },
  {
   "cell_type": "code",
   "execution_count": 73,
   "metadata": {},
   "outputs": [
    {
     "data": {
      "text/html": [
       "<div>\n",
       "<style scoped>\n",
       "    .dataframe tbody tr th:only-of-type {\n",
       "        vertical-align: middle;\n",
       "    }\n",
       "\n",
       "    .dataframe tbody tr th {\n",
       "        vertical-align: top;\n",
       "    }\n",
       "\n",
       "    .dataframe thead th {\n",
       "        text-align: right;\n",
       "    }\n",
       "</style>\n",
       "<table border=\"1\" class=\"dataframe\">\n",
       "  <thead>\n",
       "    <tr style=\"text-align: right;\">\n",
       "      <th></th>\n",
       "      <th>games</th>\n",
       "      <th>count</th>\n",
       "    </tr>\n",
       "  </thead>\n",
       "  <tbody>\n",
       "    <tr>\n",
       "      <th>0</th>\n",
       "      <td>2016 Summer</td>\n",
       "      <td>207</td>\n",
       "    </tr>\n",
       "    <tr>\n",
       "      <th>1</th>\n",
       "      <td>2012 Summer</td>\n",
       "      <td>205</td>\n",
       "    </tr>\n",
       "    <tr>\n",
       "      <th>2</th>\n",
       "      <td>2008 Summer</td>\n",
       "      <td>204</td>\n",
       "    </tr>\n",
       "    <tr>\n",
       "      <th>3</th>\n",
       "      <td>2004 Summer</td>\n",
       "      <td>201</td>\n",
       "    </tr>\n",
       "    <tr>\n",
       "      <th>4</th>\n",
       "      <td>2000 Summer</td>\n",
       "      <td>200</td>\n",
       "    </tr>\n",
       "    <tr>\n",
       "      <th>5</th>\n",
       "      <td>1996 Summer</td>\n",
       "      <td>197</td>\n",
       "    </tr>\n",
       "    <tr>\n",
       "      <th>6</th>\n",
       "      <td>1992 Summer</td>\n",
       "      <td>169</td>\n",
       "    </tr>\n",
       "  </tbody>\n",
       "</table>\n",
       "</div>"
      ],
      "text/plain": [
       "         games  count\n",
       "0  2016 Summer    207\n",
       "1  2012 Summer    205\n",
       "2  2008 Summer    204\n",
       "3  2004 Summer    201\n",
       "4  2000 Summer    200\n",
       "5  1996 Summer    197\n",
       "6  1992 Summer    169"
      ]
     },
     "execution_count": 73,
     "metadata": {},
     "output_type": "execute_result"
    }
   ],
   "source": [
    "df5 = df5.head(7)\n",
    "df5"
   ]
  },
  {
   "cell_type": "code",
   "execution_count": 76,
   "metadata": {},
   "outputs": [
    {
     "data": {
      "image/png": "[encoded data removed]",
      "text/plain": [
       "<Figure size 1008x720 with 1 Axes>"
      ]
     },
     "metadata": {},
     "output_type": "display_data"
    }
   ],
   "source": [
    "fig, ax1 = plt.subplots(figsize=(14,10),facecolor=(.92, .92, .92))\n",
    "\n",
    "# for ax3\n",
    "x = np.arange(len(df5['count']))  # the label locations\n",
    "width = 0.5  # the width of the bars\n",
    "rects1 = ax1.bar(x, df5['count'],width=width, label='Wins',color = \"#32628d\")\n",
    "\n",
    "# Add some text for labels, title and custom x-axis tick labels, etc.\n",
    "ax1.set_xlabel('Olympic',labelpad=16, fontdict=fontdict )\n",
    "ax1.set_ylabel('No. Of Participating Countries',labelpad=16, fontdict=fontdict)\n",
    "ax1.set_title(\"Olympics With The Most Participating Countries\",fontdict=title_fontdict, pad=20)\n",
    "ax1.set_xticks(x, df5['games'],weight = 'bold', rotation=70)\n",
    "ax1.tick_params(axis='y', which='major', labelsize=12)\n",
    "ax1.bar_label(rects1, padding=3, fontsize=12)\n",
    "\n",
    "plt.show()"
   ]
  },
  {
   "cell_type": "markdown",
   "metadata": {},
   "source": [
    "## 6. Countries to have participated in all olympic games."
   ]
  },
  {
   "cell_type": "code",
   "execution_count": 28,
   "metadata": {},
   "outputs": [],
   "source": [
    "query6 = \"\"\"with t1 as \n",
    "\t(\t-- count the total summer olympics , 29\n",
    "\t\tselect count (distinct games) as total_olympics\n",
    "\t\tfrom olympics.olympics_data\n",
    "\t),\n",
    "\t\n",
    "\tt2 as \n",
    "\t(\t-- all the distinct teams played in each olympics, ordered by games (olympic edition)\n",
    "\t\tselect distinct noc, games \n",
    "\t\tfrom olympics.olympics_data\n",
    "\t\torder by games\n",
    "\t),\n",
    "\t\n",
    "\tt3 as \n",
    "\t( \t-- all the teams and how many olympics they were part of\n",
    "\t\tselect noc, count(games) as no_of_games\n",
    "\t\tfrom t2 group by noc\n",
    "\t),\n",
    "\t\n",
    "\tt4 as \n",
    "\t(\n",
    "\t\tselect * from t3\n",
    "\t\tjoin t1 on t1.total_olympics = t3.no_of_games\n",
    "\t\tjoin olympics.olympics_noc_regions onr on onr.noc = t3.noc\n",
    "\t)\n",
    "select region as country, total_olympics from t4;\"\"\""
   ]
  },
  {
   "cell_type": "code",
   "execution_count": 30,
   "metadata": {},
   "outputs": [
    {
     "name": "stderr",
     "output_type": "stream",
     "text": [
      "/home/kaushal/.local/lib/python3.8/site-packages/pandas/io/sql.py:762: UserWarning: pandas only support SQLAlchemy connectable(engine/connection) ordatabase string URI or sqlite3 DBAPI2 connectionother DBAPI2 objects are not tested, please consider using SQLAlchemy\n",
      "  warnings.warn(\n"
     ]
    },
    {
     "data": {
      "text/html": [
       "<div>\n",
       "<style scoped>\n",
       "    .dataframe tbody tr th:only-of-type {\n",
       "        vertical-align: middle;\n",
       "    }\n",
       "\n",
       "    .dataframe tbody tr th {\n",
       "        vertical-align: top;\n",
       "    }\n",
       "\n",
       "    .dataframe thead th {\n",
       "        text-align: right;\n",
       "    }\n",
       "</style>\n",
       "<table border=\"1\" class=\"dataframe\">\n",
       "  <thead>\n",
       "    <tr style=\"text-align: right;\">\n",
       "      <th></th>\n",
       "      <th>country</th>\n",
       "      <th>total_olympics</th>\n",
       "    </tr>\n",
       "  </thead>\n",
       "  <tbody>\n",
       "    <tr>\n",
       "      <th>0</th>\n",
       "      <td>France</td>\n",
       "      <td>51</td>\n",
       "    </tr>\n",
       "    <tr>\n",
       "      <th>1</th>\n",
       "      <td>UK</td>\n",
       "      <td>51</td>\n",
       "    </tr>\n",
       "    <tr>\n",
       "      <th>2</th>\n",
       "      <td>Italy</td>\n",
       "      <td>51</td>\n",
       "    </tr>\n",
       "    <tr>\n",
       "      <th>3</th>\n",
       "      <td>Switzerland</td>\n",
       "      <td>51</td>\n",
       "    </tr>\n",
       "  </tbody>\n",
       "</table>\n",
       "</div>"
      ],
      "text/plain": [
       "       country  total_olympics\n",
       "0       France              51\n",
       "1           UK              51\n",
       "2        Italy              51\n",
       "3  Switzerland              51"
      ]
     },
     "execution_count": 30,
     "metadata": {},
     "output_type": "execute_result"
    }
   ],
   "source": [
    "df6 = psql.read_sql(query6, con=conn)\n",
    "df6"
   ]
  },
  {
   "cell_type": "markdown",
   "metadata": {},
   "source": [
    "### *Output 6:- France, UK, Italy and Switzerland are the only countries that have pariticipated in all the olympics (both summer and winter).*"
   ]
  },
  {
   "cell_type": "markdown",
   "metadata": {},
   "source": [
    "## 7. Gold Medals by Age."
   ]
  },
  {
   "cell_type": "code",
   "execution_count": 31,
   "metadata": {},
   "outputs": [],
   "source": [
    "query7 = \"\"\"select age, count(medal)\n",
    "from olympics.olympics_data\n",
    "where medal = 'Gold'\n",
    "group by age;\"\"\""
   ]
  },
  {
   "cell_type": "code",
   "execution_count": 37,
   "metadata": {},
   "outputs": [
    {
     "name": "stderr",
     "output_type": "stream",
     "text": [
      "/home/kaushal/.local/lib/python3.8/site-packages/pandas/io/sql.py:762: UserWarning: pandas only support SQLAlchemy connectable(engine/connection) ordatabase string URI or sqlite3 DBAPI2 connectionother DBAPI2 objects are not tested, please consider using SQLAlchemy\n",
      "  warnings.warn(\n"
     ]
    },
    {
     "data": {
      "text/html": [
       "<div>\n",
       "<style scoped>\n",
       "    .dataframe tbody tr th:only-of-type {\n",
       "        vertical-align: middle;\n",
       "    }\n",
       "\n",
       "    .dataframe tbody tr th {\n",
       "        vertical-align: top;\n",
       "    }\n",
       "\n",
       "    .dataframe thead th {\n",
       "        text-align: right;\n",
       "    }\n",
       "</style>\n",
       "<table border=\"1\" class=\"dataframe\">\n",
       "  <thead>\n",
       "    <tr style=\"text-align: right;\">\n",
       "      <th></th>\n",
       "      <th>age</th>\n",
       "      <th>count</th>\n",
       "    </tr>\n",
       "  </thead>\n",
       "  <tbody>\n",
       "    <tr>\n",
       "      <th>0</th>\n",
       "      <td>13</td>\n",
       "      <td>7</td>\n",
       "    </tr>\n",
       "    <tr>\n",
       "      <th>1</th>\n",
       "      <td>14</td>\n",
       "      <td>27</td>\n",
       "    </tr>\n",
       "    <tr>\n",
       "      <th>2</th>\n",
       "      <td>15</td>\n",
       "      <td>75</td>\n",
       "    </tr>\n",
       "    <tr>\n",
       "      <th>3</th>\n",
       "      <td>16</td>\n",
       "      <td>116</td>\n",
       "    </tr>\n",
       "    <tr>\n",
       "      <th>4</th>\n",
       "      <td>17</td>\n",
       "      <td>199</td>\n",
       "    </tr>\n",
       "    <tr>\n",
       "      <th>5</th>\n",
       "      <td>18</td>\n",
       "      <td>280</td>\n",
       "    </tr>\n",
       "    <tr>\n",
       "      <th>6</th>\n",
       "      <td>19</td>\n",
       "      <td>459</td>\n",
       "    </tr>\n",
       "    <tr>\n",
       "      <th>7</th>\n",
       "      <td>20</td>\n",
       "      <td>674</td>\n",
       "    </tr>\n",
       "  </tbody>\n",
       "</table>\n",
       "</div>"
      ],
      "text/plain": [
       "  age  count\n",
       "0  13      7\n",
       "1  14     27\n",
       "2  15     75\n",
       "3  16    116\n",
       "4  17    199\n",
       "5  18    280\n",
       "6  19    459\n",
       "7  20    674"
      ]
     },
     "execution_count": 37,
     "metadata": {},
     "output_type": "execute_result"
    }
   ],
   "source": [
    "df7 = psql.read_sql(query7, con=conn)\n",
    "df7.head(8)"
   ]
  },
  {
   "cell_type": "markdown",
   "metadata": {},
   "source": [
    "### *Output 7:- The above given list shows how many total gold medals were won by athelets from each age.*"
   ]
  },
  {
   "cell_type": "markdown",
   "metadata": {},
   "source": [
    "### Viz 4:-"
   ]
  },
  {
   "cell_type": "code",
   "execution_count": 99,
   "metadata": {},
   "outputs": [
    {
     "data": {
      "text/html": [
       "<div>\n",
       "<style scoped>\n",
       "    .dataframe tbody tr th:only-of-type {\n",
       "        vertical-align: middle;\n",
       "    }\n",
       "\n",
       "    .dataframe tbody tr th {\n",
       "        vertical-align: top;\n",
       "    }\n",
       "\n",
       "    .dataframe thead th {\n",
       "        text-align: right;\n",
       "    }\n",
       "</style>\n",
       "<table border=\"1\" class=\"dataframe\">\n",
       "  <thead>\n",
       "    <tr style=\"text-align: right;\">\n",
       "      <th></th>\n",
       "      <th>age</th>\n",
       "      <th>count</th>\n",
       "    </tr>\n",
       "  </thead>\n",
       "  <tbody>\n",
       "    <tr>\n",
       "      <th>50</th>\n",
       "      <td>NA</td>\n",
       "      <td>148</td>\n",
       "    </tr>\n",
       "  </tbody>\n",
       "</table>\n",
       "</div>"
      ],
      "text/plain": [
       "   age  count\n",
       "50  NA    148"
      ]
     },
     "execution_count": 99,
     "metadata": {},
     "output_type": "execute_result"
    }
   ],
   "source": [
    "df7[df7['age'] == 'NA']"
   ]
  },
  {
   "cell_type": "code",
   "execution_count": 104,
   "metadata": {},
   "outputs": [],
   "source": [
    "df7 = df7.drop(50)  # NA is in the 50th row"
   ]
  },
  {
   "cell_type": "code",
   "execution_count": 112,
   "metadata": {},
   "outputs": [
    {
     "data": {
      "image/png": "[encoded data removed]",
      "text/plain": [
       "<Figure size 1296x720 with 1 Axes>"
      ]
     },
     "metadata": {},
     "output_type": "display_data"
    }
   ],
   "source": [
    "fig, ax1 = plt.subplots(figsize=(18,10),facecolor=(.92, .92, .92))\n",
    "\n",
    "x = np.arange(len(df7['age'])) \n",
    "\n",
    "\n",
    "ax1.scatter(df7['age'],df7['count'])\n",
    "\n",
    "# Add some text for labels, title and custom x-axis tick labels, etc.\n",
    "ax1.set_xlabel('Age',labelpad=16, fontdict=fontdict )\n",
    "ax1.set_ylabel('Gold Medals',labelpad=16, fontdict=fontdict)\n",
    "ax1.set_title(\"Gold Medals By Age\",fontdict=title_fontdict, pad=20)\n",
    "ax1.set_xticks(x, df7['age'],weight = 'bold', rotation=70)\n",
    "ax1.tick_params(axis='y', which='major', labelsize=12)\n",
    "\n",
    "plt.show()"
   ]
  },
  {
   "cell_type": "markdown",
   "metadata": {},
   "source": [
    "*We can see in the above given visualisation that most of the gold medals are won by athletes in the age range of 20-30. Moreover 22,23,24 and 25 are the ages where 1000+ gold medals were won.*"
   ]
  },
  {
   "cell_type": "markdown",
   "metadata": {},
   "source": [
    "## 8. Gold Medal by Height."
   ]
  },
  {
   "cell_type": "code",
   "execution_count": 32,
   "metadata": {},
   "outputs": [],
   "source": [
    "query8 = \"\"\"select height, count(medal)\n",
    "from olympics.olympics_data\n",
    "where medal = 'Gold'\n",
    "group by height;\n",
    "\"\"\""
   ]
  },
  {
   "cell_type": "code",
   "execution_count": 39,
   "metadata": {},
   "outputs": [
    {
     "name": "stderr",
     "output_type": "stream",
     "text": [
      "/home/kaushal/.local/lib/python3.8/site-packages/pandas/io/sql.py:762: UserWarning: pandas only support SQLAlchemy connectable(engine/connection) ordatabase string URI or sqlite3 DBAPI2 connectionother DBAPI2 objects are not tested, please consider using SQLAlchemy\n",
      "  warnings.warn(\n"
     ]
    },
    {
     "data": {
      "text/html": [
       "<div>\n",
       "<style scoped>\n",
       "    .dataframe tbody tr th:only-of-type {\n",
       "        vertical-align: middle;\n",
       "    }\n",
       "\n",
       "    .dataframe tbody tr th {\n",
       "        vertical-align: top;\n",
       "    }\n",
       "\n",
       "    .dataframe thead th {\n",
       "        text-align: right;\n",
       "    }\n",
       "</style>\n",
       "<table border=\"1\" class=\"dataframe\">\n",
       "  <thead>\n",
       "    <tr style=\"text-align: right;\">\n",
       "      <th></th>\n",
       "      <th>height</th>\n",
       "      <th>count</th>\n",
       "    </tr>\n",
       "  </thead>\n",
       "  <tbody>\n",
       "    <tr>\n",
       "      <th>0</th>\n",
       "      <td>136</td>\n",
       "      <td>3</td>\n",
       "    </tr>\n",
       "    <tr>\n",
       "      <th>1</th>\n",
       "      <td>137</td>\n",
       "      <td>1</td>\n",
       "    </tr>\n",
       "    <tr>\n",
       "      <th>2</th>\n",
       "      <td>138</td>\n",
       "      <td>1</td>\n",
       "    </tr>\n",
       "    <tr>\n",
       "      <th>3</th>\n",
       "      <td>139</td>\n",
       "      <td>3</td>\n",
       "    </tr>\n",
       "    <tr>\n",
       "      <th>4</th>\n",
       "      <td>140</td>\n",
       "      <td>2</td>\n",
       "    </tr>\n",
       "    <tr>\n",
       "      <th>5</th>\n",
       "      <td>142</td>\n",
       "      <td>5</td>\n",
       "    </tr>\n",
       "    <tr>\n",
       "      <th>6</th>\n",
       "      <td>143</td>\n",
       "      <td>5</td>\n",
       "    </tr>\n",
       "    <tr>\n",
       "      <th>7</th>\n",
       "      <td>144</td>\n",
       "      <td>3</td>\n",
       "    </tr>\n",
       "  </tbody>\n",
       "</table>\n",
       "</div>"
      ],
      "text/plain": [
       "  height  count\n",
       "0    136      3\n",
       "1    137      1\n",
       "2    138      1\n",
       "3    139      3\n",
       "4    140      2\n",
       "5    142      5\n",
       "6    143      5\n",
       "7    144      3"
      ]
     },
     "execution_count": 39,
     "metadata": {},
     "output_type": "execute_result"
    }
   ],
   "source": [
    "df8 = psql.read_sql(query8, con=conn)\n",
    "df8.head(8)"
   ]
  },
  {
   "cell_type": "markdown",
   "metadata": {},
   "source": [
    "### *Output 8:- The above list shows the total gold medal count of each height group.*"
   ]
  },
  {
   "cell_type": "markdown",
   "metadata": {},
   "source": [
    "### Viz 5:-"
   ]
  },
  {
   "cell_type": "code",
   "execution_count": 108,
   "metadata": {},
   "outputs": [],
   "source": [
    "df8 = df8.drop(df8[df8['height'] == 'NA'].index)  # removing the NA value"
   ]
  },
  {
   "cell_type": "code",
   "execution_count": 115,
   "metadata": {},
   "outputs": [
    {
     "data": {
      "image/png": "[encoded data removed]",
      "text/plain": [
       "<Figure size 1440x720 with 1 Axes>"
      ]
     },
     "metadata": {},
     "output_type": "display_data"
    }
   ],
   "source": [
    "fig, ax1 = plt.subplots(figsize=(20,10),facecolor=(.92, .92, .92))\n",
    "x = np.arange(len(df8['height'])) \n",
    "# for ax3\n",
    "ax1.scatter(df8['height'],df8['count'])\n",
    "\n",
    "# Add some text for labels, title and custom x-axis tick labels, etc.\n",
    "ax1.set_xlabel('Height (in cm)',labelpad=16, fontdict=fontdict )\n",
    "ax1.set_ylabel('Gold Medals',labelpad=16, fontdict=fontdict)\n",
    "ax1.set_title(\"Gold Medals By Height\",fontdict=title_fontdict, pad=20)\n",
    "ax1.set_xticks(x,df8['height'],weight = 'bold', rotation=70)\n",
    "ax1.tick_params(axis='y', which='major', labelsize=12)\n",
    "\n",
    "plt.show()"
   ]
  },
  {
   "cell_type": "markdown",
   "metadata": {},
   "source": [
    "*Athletes with 180 cm have won the most gold medals. Also we can see that medal count is higher for the height range of (167-190)cm. This could be because most people belong to this height range.* "
   ]
  },
  {
   "cell_type": "markdown",
   "metadata": {},
   "source": [
    "## 9. Cities that have hosted the most summer olympics."
   ]
  },
  {
   "cell_type": "code",
   "execution_count": 65,
   "metadata": {},
   "outputs": [],
   "source": [
    "query9 = \"\"\"select city, count( distinct games) no_of_times\n",
    "from olympics.olympics_data\n",
    "where season = 'Summer'\n",
    "group by city\n",
    "order by 2 desc;\"\"\""
   ]
  },
  {
   "cell_type": "code",
   "execution_count": 66,
   "metadata": {},
   "outputs": [
    {
     "name": "stderr",
     "output_type": "stream",
     "text": [
      "/home/kaushal/.local/lib/python3.8/site-packages/pandas/io/sql.py:762: UserWarning: pandas only support SQLAlchemy connectable(engine/connection) ordatabase string URI or sqlite3 DBAPI2 connectionother DBAPI2 objects are not tested, please consider using SQLAlchemy\n",
      "  warnings.warn(\n"
     ]
    },
    {
     "data": {
      "text/html": [
       "<div>\n",
       "<style scoped>\n",
       "    .dataframe tbody tr th:only-of-type {\n",
       "        vertical-align: middle;\n",
       "    }\n",
       "\n",
       "    .dataframe tbody tr th {\n",
       "        vertical-align: top;\n",
       "    }\n",
       "\n",
       "    .dataframe thead th {\n",
       "        text-align: right;\n",
       "    }\n",
       "</style>\n",
       "<table border=\"1\" class=\"dataframe\">\n",
       "  <thead>\n",
       "    <tr style=\"text-align: right;\">\n",
       "      <th></th>\n",
       "      <th>city</th>\n",
       "      <th>no_of_times</th>\n",
       "    </tr>\n",
       "  </thead>\n",
       "  <tbody>\n",
       "    <tr>\n",
       "      <th>0</th>\n",
       "      <td>London</td>\n",
       "      <td>3</td>\n",
       "    </tr>\n",
       "    <tr>\n",
       "      <th>1</th>\n",
       "      <td>Athina</td>\n",
       "      <td>3</td>\n",
       "    </tr>\n",
       "    <tr>\n",
       "      <th>2</th>\n",
       "      <td>Paris</td>\n",
       "      <td>2</td>\n",
       "    </tr>\n",
       "    <tr>\n",
       "      <th>3</th>\n",
       "      <td>Stockholm</td>\n",
       "      <td>2</td>\n",
       "    </tr>\n",
       "    <tr>\n",
       "      <th>4</th>\n",
       "      <td>Los Angeles</td>\n",
       "      <td>2</td>\n",
       "    </tr>\n",
       "    <tr>\n",
       "      <th>5</th>\n",
       "      <td>Berlin</td>\n",
       "      <td>1</td>\n",
       "    </tr>\n",
       "    <tr>\n",
       "      <th>6</th>\n",
       "      <td>Helsinki</td>\n",
       "      <td>1</td>\n",
       "    </tr>\n",
       "    <tr>\n",
       "      <th>7</th>\n",
       "      <td>Melbourne</td>\n",
       "      <td>1</td>\n",
       "    </tr>\n",
       "    <tr>\n",
       "      <th>8</th>\n",
       "      <td>Mexico City</td>\n",
       "      <td>1</td>\n",
       "    </tr>\n",
       "    <tr>\n",
       "      <th>9</th>\n",
       "      <td>Montreal</td>\n",
       "      <td>1</td>\n",
       "    </tr>\n",
       "  </tbody>\n",
       "</table>\n",
       "</div>"
      ],
      "text/plain": [
       "          city  no_of_times\n",
       "0       London            3\n",
       "1       Athina            3\n",
       "2        Paris            2\n",
       "3    Stockholm            2\n",
       "4  Los Angeles            2\n",
       "5       Berlin            1\n",
       "6     Helsinki            1\n",
       "7    Melbourne            1\n",
       "8  Mexico City            1\n",
       "9     Montreal            1"
      ]
     },
     "execution_count": 66,
     "metadata": {},
     "output_type": "execute_result"
    }
   ],
   "source": [
    "df9 = psql.read_sql(query9, con=conn)\n",
    "df9.head(10)"
   ]
  },
  {
   "cell_type": "markdown",
   "metadata": {},
   "source": [
    "### *Output 9:- London and Athina have hosted the most olympic events (thrice each).*"
   ]
  },
  {
   "cell_type": "markdown",
   "metadata": {},
   "source": [
    "### Viz. 6:-"
   ]
  },
  {
   "cell_type": "code",
   "execution_count": 67,
   "metadata": {},
   "outputs": [],
   "source": [
    "df9 = df9.head(5)"
   ]
  },
  {
   "cell_type": "code",
   "execution_count": 68,
   "metadata": {},
   "outputs": [
    {
     "data": {
      "image/png": "[encoded data removed]",
      "text/plain": [
       "<Figure size 1008x720 with 1 Axes>"
      ]
     },
     "metadata": {},
     "output_type": "display_data"
    }
   ],
   "source": [
    "fig, ax1 = plt.subplots(figsize=(14,10),facecolor=(.92, .92, .92))\n",
    "\n",
    "# for ax3\n",
    "x = np.arange(len(df9['no_of_times']))  # the label locations\n",
    "width = 0.5  # the width of the bars\n",
    "rects1 = ax1.bar(x, df9['no_of_times'],width=width, label='Wins',color = \"#d928ed\")\n",
    "\n",
    "# Add some text for labels, title and custom x-axis tick labels, etc.\n",
    "ax1.set_xlabel('Cities',labelpad=16, fontdict=fontdict )\n",
    "ax1.set_ylabel('No. Of Times',labelpad=16, fontdict=fontdict)\n",
    "ax1.set_title(\"Cities That Have Hosted The Most Olympics (summer)\",fontdict=title_fontdict, pad=20)\n",
    "ax1.set_xticks(x, df9['city'],weight = 'bold', rotation=70)\n",
    "ax1.tick_params(axis='y', which='major', labelsize=12)\n",
    "ax1.bar_label(rects1, padding=3, fontsize=12)\n",
    "\n",
    "plt.show()"
   ]
  },
  {
   "cell_type": "markdown",
   "metadata": {},
   "source": [
    "## 10. Countries that have won atleast one silver and/or bronze but not gold (summer olympics)."
   ]
  },
  {
   "cell_type": "code",
   "execution_count": 56,
   "metadata": {},
   "outputs": [],
   "source": [
    "query10 = \"\"\"with t1 as \n",
    "\t(\t-- selecting those countries \n",
    "\t\tselect * from olympics.olympics_data\n",
    "\t\twhere season = 'Summer'and medal not in ('NA','Gold') \n",
    "\t\tand noc not in (select distinct noc from olympics.olympics_data     -- noc not in gold medal winning country list\n",
    "\t\t\t\t\t\t\t\t\t\t\t\t\t\t\twhere season = 'Summer' and medal = 'Gold')\n",
    "\t),\n",
    "\tt2 as\n",
    "\t(\n",
    "\t\tselect noc,count(medal) as no_of_medal \n",
    "\t\tfrom t1\n",
    "\t\tgroup by noc\n",
    "\t)\n",
    "\t\n",
    "select region as country, no_of_medal from t2 \n",
    "join olympics.olympics_noc_regions onr on onr.noc = t2.noc\n",
    "order by 2 desc;\"\"\""
   ]
  },
  {
   "cell_type": "code",
   "execution_count": 57,
   "metadata": {},
   "outputs": [
    {
     "name": "stderr",
     "output_type": "stream",
     "text": [
      "/home/kaushal/.local/lib/python3.8/site-packages/pandas/io/sql.py:762: UserWarning: pandas only support SQLAlchemy connectable(engine/connection) ordatabase string URI or sqlite3 DBAPI2 connectionother DBAPI2 objects are not tested, please consider using SQLAlchemy\n",
      "  warnings.warn(\n"
     ]
    },
    {
     "data": {
      "text/html": [
       "<div>\n",
       "<style scoped>\n",
       "    .dataframe tbody tr th:only-of-type {\n",
       "        vertical-align: middle;\n",
       "    }\n",
       "\n",
       "    .dataframe tbody tr th {\n",
       "        vertical-align: top;\n",
       "    }\n",
       "\n",
       "    .dataframe thead th {\n",
       "        text-align: right;\n",
       "    }\n",
       "</style>\n",
       "<table border=\"1\" class=\"dataframe\">\n",
       "  <thead>\n",
       "    <tr style=\"text-align: right;\">\n",
       "      <th></th>\n",
       "      <th>country</th>\n",
       "      <th>no_of_medal</th>\n",
       "    </tr>\n",
       "  </thead>\n",
       "  <tbody>\n",
       "    <tr>\n",
       "      <th>0</th>\n",
       "      <td>Ghana</td>\n",
       "      <td>23</td>\n",
       "    </tr>\n",
       "    <tr>\n",
       "      <th>1</th>\n",
       "      <td>Paraguay</td>\n",
       "      <td>17</td>\n",
       "    </tr>\n",
       "    <tr>\n",
       "      <th>2</th>\n",
       "      <td>Iceland</td>\n",
       "      <td>17</td>\n",
       "    </tr>\n",
       "    <tr>\n",
       "      <th>3</th>\n",
       "      <td>Malaysia</td>\n",
       "      <td>16</td>\n",
       "    </tr>\n",
       "    <tr>\n",
       "      <th>4</th>\n",
       "      <td>Montenegro</td>\n",
       "      <td>14</td>\n",
       "    </tr>\n",
       "    <tr>\n",
       "      <th>5</th>\n",
       "      <td>Czech Republic</td>\n",
       "      <td>12</td>\n",
       "    </tr>\n",
       "    <tr>\n",
       "      <th>6</th>\n",
       "      <td>Philippines</td>\n",
       "      <td>10</td>\n",
       "    </tr>\n",
       "    <tr>\n",
       "      <th>7</th>\n",
       "      <td>Moldova</td>\n",
       "      <td>8</td>\n",
       "    </tr>\n",
       "    <tr>\n",
       "      <th>8</th>\n",
       "      <td>Saudi Arabia</td>\n",
       "      <td>6</td>\n",
       "    </tr>\n",
       "    <tr>\n",
       "      <th>9</th>\n",
       "      <td>Qatar</td>\n",
       "      <td>5</td>\n",
       "    </tr>\n",
       "  </tbody>\n",
       "</table>\n",
       "</div>"
      ],
      "text/plain": [
       "          country  no_of_medal\n",
       "0           Ghana           23\n",
       "1        Paraguay           17\n",
       "2         Iceland           17\n",
       "3        Malaysia           16\n",
       "4      Montenegro           14\n",
       "5  Czech Republic           12\n",
       "6     Philippines           10\n",
       "7         Moldova            8\n",
       "8    Saudi Arabia            6\n",
       "9           Qatar            5"
      ]
     },
     "execution_count": 57,
     "metadata": {},
     "output_type": "execute_result"
    }
   ],
   "source": [
    "df10 = psql.read_sql(query10, con=conn)\n",
    "df10.head(10)"
   ]
  },
  {
   "cell_type": "markdown",
   "metadata": {},
   "source": [
    "### *Output 10:- Ghana has won the most silver and/or bronze medals but no any gold yet. Similarly, Paraguay and Iceland have 17 medals without any golds.*"
   ]
  },
  {
   "cell_type": "markdown",
   "metadata": {},
   "source": [
    "### Viz. 7:-"
   ]
  },
  {
   "cell_type": "code",
   "execution_count": 58,
   "metadata": {},
   "outputs": [],
   "source": [
    "df10 = df10 [:10]"
   ]
  },
  {
   "cell_type": "code",
   "execution_count": 64,
   "metadata": {},
   "outputs": [
    {
     "data": {
      "image/png": "[encoded data removed]",
      "text/plain": [
       "<Figure size 1008x720 with 1 Axes>"
      ]
     },
     "metadata": {},
     "output_type": "display_data"
    }
   ],
   "source": [
    "fig, ax1 = plt.subplots(figsize=(14,10),facecolor=(.92, .92, .92))\n",
    "fontdict = {'fontsize':16, 'fontweight':'bold'}\n",
    "title_fontdict = {'fontsize':20, 'fontweight':'bold','fontname':'Times New Roman'}\n",
    "\n",
    "# for ax3\n",
    "y = np.arange(len(df10['country']))  # the label locations\n",
    "width = 0.35  # the width of the bars\n",
    "rects2 = ax1.barh(y,df10['no_of_medal'] ,color = \"#f70a41\", label =\"Silver\")\n",
    "\n",
    "# Add some text for labels, title and custom x-axis tick labels, etc.\n",
    "ax1.set_xlabel('Medals',labelpad=16, fontdict=fontdict )\n",
    "ax1.set_ylabel('Countries',labelpad=16, fontdict=fontdict)\n",
    "ax1.set_title(\"Countries With The Most Medals But Zero Gold\",fontdict=title_fontdict, pad=20)\n",
    "ax1.set_yticks(y, df10['country'],weight = 'bold')\n",
    "ax1.tick_params(axis='y', which='major', labelsize=12)\n",
    "ax1.bar_label(rects2, padding=3, fontsize=12)\n",
    "# ax1.bar_label(rects3, padding=3, fontsize=12)\n",
    "\n",
    "\n",
    "ax1.invert_yaxis()\n",
    "\n",
    "plt.show()"
   ]
  },
  {
   "cell_type": "markdown",
   "metadata": {},
   "source": [
    "## 11. Medals of countries that have won atleast one silver and/or bronze but not gold."
   ]
  },
  {
   "cell_type": "code",
   "execution_count": 35,
   "metadata": {},
   "outputs": [],
   "source": [
    "query11 = \"\"\"select * from (\n",
    "    \tSELECT country, coalesce(gold,0) as gold, coalesce(silver,0) as silver, coalesce(bronze,0) as bronze\n",
    "    \t\tFROM CROSSTAB('SELECT onr.region as country\n",
    "    \t\t\t\t\t, medal, count(1) as total_medals\n",
    "\t\t\t\t\t\tfrom olympics.olympics_data od\n",
    "\t\t\t\t\t\tjoin olympics.olympics_noc_regions onr on onr.noc = od.noc\n",
    "    \t\t\t\t\twhere medal <> ''NA''\n",
    "    \t\t\t\t\tGROUP BY onr.region,medal order BY onr.region,medal',\n",
    "                    'values (''Bronze''), (''Gold''), (''Silver'')')\n",
    "    \t\tAS FINAL_RESULT(country varchar,\n",
    "    \t\tbronze bigint, gold bigint, silver bigint)) x\n",
    "    where gold = 0 and (silver > 0 or bronze > 0)\n",
    "    order by gold desc nulls last, silver desc nulls last, bronze desc nulls last;\n",
    "\"\"\""
   ]
  },
  {
   "cell_type": "code",
   "execution_count": 36,
   "metadata": {},
   "outputs": [
    {
     "name": "stderr",
     "output_type": "stream",
     "text": [
      "/home/kaushal/.local/lib/python3.8/site-packages/pandas/io/sql.py:762: UserWarning: pandas only support SQLAlchemy connectable(engine/connection) ordatabase string URI or sqlite3 DBAPI2 connectionother DBAPI2 objects are not tested, please consider using SQLAlchemy\n",
      "  warnings.warn(\n"
     ]
    },
    {
     "data": {
      "text/html": [
       "<div>\n",
       "<style scoped>\n",
       "    .dataframe tbody tr th:only-of-type {\n",
       "        vertical-align: middle;\n",
       "    }\n",
       "\n",
       "    .dataframe tbody tr th {\n",
       "        vertical-align: top;\n",
       "    }\n",
       "\n",
       "    .dataframe thead th {\n",
       "        text-align: right;\n",
       "    }\n",
       "</style>\n",
       "<table border=\"1\" class=\"dataframe\">\n",
       "  <thead>\n",
       "    <tr style=\"text-align: right;\">\n",
       "      <th></th>\n",
       "      <th>country</th>\n",
       "      <th>gold</th>\n",
       "      <th>silver</th>\n",
       "      <th>bronze</th>\n",
       "    </tr>\n",
       "  </thead>\n",
       "  <tbody>\n",
       "    <tr>\n",
       "      <th>0</th>\n",
       "      <td>Paraguay</td>\n",
       "      <td>0</td>\n",
       "      <td>17</td>\n",
       "      <td>0</td>\n",
       "    </tr>\n",
       "    <tr>\n",
       "      <th>1</th>\n",
       "      <td>Iceland</td>\n",
       "      <td>0</td>\n",
       "      <td>15</td>\n",
       "      <td>2</td>\n",
       "    </tr>\n",
       "    <tr>\n",
       "      <th>2</th>\n",
       "      <td>Montenegro</td>\n",
       "      <td>0</td>\n",
       "      <td>14</td>\n",
       "      <td>0</td>\n",
       "    </tr>\n",
       "    <tr>\n",
       "      <th>3</th>\n",
       "      <td>Malaysia</td>\n",
       "      <td>0</td>\n",
       "      <td>11</td>\n",
       "      <td>5</td>\n",
       "    </tr>\n",
       "    <tr>\n",
       "      <th>4</th>\n",
       "      <td>Namibia</td>\n",
       "      <td>0</td>\n",
       "      <td>4</td>\n",
       "      <td>0</td>\n",
       "    </tr>\n",
       "    <tr>\n",
       "      <th>5</th>\n",
       "      <td>Philippines</td>\n",
       "      <td>0</td>\n",
       "      <td>3</td>\n",
       "      <td>7</td>\n",
       "    </tr>\n",
       "    <tr>\n",
       "      <th>6</th>\n",
       "      <td>Moldova</td>\n",
       "      <td>0</td>\n",
       "      <td>3</td>\n",
       "      <td>5</td>\n",
       "    </tr>\n",
       "    <tr>\n",
       "      <th>7</th>\n",
       "      <td>Lebanon</td>\n",
       "      <td>0</td>\n",
       "      <td>2</td>\n",
       "      <td>2</td>\n",
       "    </tr>\n",
       "    <tr>\n",
       "      <th>8</th>\n",
       "      <td>Sri Lanka</td>\n",
       "      <td>0</td>\n",
       "      <td>2</td>\n",
       "      <td>0</td>\n",
       "    </tr>\n",
       "    <tr>\n",
       "      <th>9</th>\n",
       "      <td>Tanzania</td>\n",
       "      <td>0</td>\n",
       "      <td>2</td>\n",
       "      <td>0</td>\n",
       "    </tr>\n",
       "  </tbody>\n",
       "</table>\n",
       "</div>"
      ],
      "text/plain": [
       "       country  gold  silver  bronze\n",
       "0     Paraguay     0      17       0\n",
       "1      Iceland     0      15       2\n",
       "2   Montenegro     0      14       0\n",
       "3     Malaysia     0      11       5\n",
       "4      Namibia     0       4       0\n",
       "5  Philippines     0       3       7\n",
       "6      Moldova     0       3       5\n",
       "7      Lebanon     0       2       2\n",
       "8    Sri Lanka     0       2       0\n",
       "9     Tanzania     0       2       0"
      ]
     },
     "execution_count": 36,
     "metadata": {},
     "output_type": "execute_result"
    }
   ],
   "source": [
    "df11 = psql.read_sql(query11, con=conn)\n",
    "df11.head(10)"
   ]
  },
  {
   "cell_type": "markdown",
   "metadata": {},
   "source": [
    "### Output 11:- Medal tally of countries with zero gold medal."
   ]
  },
  {
   "cell_type": "code",
   "execution_count": null,
   "metadata": {},
   "outputs": [],
   "source": []
  },
  {
   "cell_type": "code",
   "execution_count": 5,
   "metadata": {},
   "outputs": [],
   "source": [
    "conn.close()"
   ]
  }
 ],
 "metadata": {
  "kernelspec": {
   "display_name": "Python 3.8.10 64-bit",
   "language": "python",
   "name": "python3"
  },
  "language_info": {
   "codemirror_mode": {
    "name": "ipython",
    "version": 3
   },
   "file_extension": ".py",
   "mimetype": "text/x-python",
   "name": "python",
   "nbconvert_exporter": "python",
   "pygments_lexer": "ipython3",
   "version": "3.8.10"
  },
  "orig_nbformat": 4,
  "vscode": {
   "interpreter": {
    "hash": "916dbcbb3f70747c44a77c7bcd40155683ae19c65e1c03b4aa3499c5328201f1"
   }
  }
 },
 "nbformat": 4,
 "nbformat_minor": 2
}
